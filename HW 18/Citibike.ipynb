{
 "cells": [
  {
   "cell_type": "code",
   "execution_count": 2,
   "id": "aea405bf",
   "metadata": {},
   "outputs": [],
   "source": [
    "import pandas as pd\n",
    "import numpy as np"
   ]
  },
  {
   "cell_type": "code",
   "execution_count": 7,
   "id": "6f97c2bf",
   "metadata": {},
   "outputs": [
    {
     "name": "stdout",
     "output_type": "stream",
     "text": [
      "01\n",
      "02\n",
      "03\n",
      "04\n",
      "05\n",
      "06\n",
      "07\n",
      "08\n",
      "09\n",
      "10\n",
      "11\n",
      "12\n"
     ]
    }
   ],
   "source": [
    "months = [\"01\", \"02\", \"03\", \"04\", \"05\", \"06\", \"07\", \"08\", \"09\", \"10\", \"11\", \"12\"]\n",
    "main_df = pd.DataFrame()\n",
    "\n",
    "for month in months:\n",
    "    print(month)\n",
    "    filepath = f\"data/JC-2022{month}-citibike-tripdata.csv\"\n",
    "    df = pd.read_csv(filepath, low_memory=False)\n",
    "    df = df.sample(frac=0.015, random_state=42)\n",
    "    main_df = pd.concat([main_df, df], axis=0)\n",
    "\n",
    "main_df = main_df.reset_index(drop=True)"
   ]
  },
  {
   "cell_type": "code",
   "execution_count": 8,
   "id": "92b8767a",
   "metadata": {},
   "outputs": [
    {
     "data": {
      "text/plain": [
       "Index(['ride_id', 'rideable_type', 'started_at', 'ended_at',\n",
       "       'start_station_name', 'start_station_id', 'end_station_name',\n",
       "       'end_station_id', 'start_lat', 'start_lng', 'end_lat', 'end_lng',\n",
       "       'member_casual'],\n",
       "      dtype='object')"
      ]
     },
     "execution_count": 8,
     "metadata": {},
     "output_type": "execute_result"
    }
   ],
   "source": [
    "main_df.columns"
   ]
  },
  {
   "cell_type": "code",
   "execution_count": 9,
   "id": "5919fe60",
   "metadata": {},
   "outputs": [],
   "source": [
    " main_df.to_csv(\"2022_citibike_rides_sample.csv\", index=False)"
   ]
  },
  {
   "cell_type": "code",
   "execution_count": 10,
   "id": "42235e1b",
   "metadata": {},
   "outputs": [
    {
     "data": {
      "text/html": [
       "<div>\n",
       "<style scoped>\n",
       "    .dataframe tbody tr th:only-of-type {\n",
       "        vertical-align: middle;\n",
       "    }\n",
       "\n",
       "    .dataframe tbody tr th {\n",
       "        vertical-align: top;\n",
       "    }\n",
       "\n",
       "    .dataframe thead th {\n",
       "        text-align: right;\n",
       "    }\n",
       "</style>\n",
       "<table border=\"1\" class=\"dataframe\">\n",
       "  <thead>\n",
       "    <tr style=\"text-align: right;\">\n",
       "      <th></th>\n",
       "      <th>ride_id</th>\n",
       "      <th>rideable_type</th>\n",
       "      <th>started_at</th>\n",
       "      <th>ended_at</th>\n",
       "      <th>start_station_name</th>\n",
       "      <th>start_station_id</th>\n",
       "      <th>end_station_name</th>\n",
       "      <th>end_station_id</th>\n",
       "      <th>start_lat</th>\n",
       "      <th>start_lng</th>\n",
       "      <th>end_lat</th>\n",
       "      <th>end_lng</th>\n",
       "      <th>member_casual</th>\n",
       "    </tr>\n",
       "  </thead>\n",
       "  <tbody>\n",
       "    <tr>\n",
       "      <th>0</th>\n",
       "      <td>363FDF271323F3C0</td>\n",
       "      <td>electric_bike</td>\n",
       "      <td>2022-01-19 08:13:48</td>\n",
       "      <td>2022-01-19 08:17:16</td>\n",
       "      <td>Brunswick &amp; 6th</td>\n",
       "      <td>JC081</td>\n",
       "      <td>Manila &amp; 1st</td>\n",
       "      <td>JC082</td>\n",
       "      <td>40.726012</td>\n",
       "      <td>-74.050389</td>\n",
       "      <td>40.721651</td>\n",
       "      <td>-74.042884</td>\n",
       "      <td>casual</td>\n",
       "    </tr>\n",
       "    <tr>\n",
       "      <th>1</th>\n",
       "      <td>C20A36BA75BE5B4C</td>\n",
       "      <td>classic_bike</td>\n",
       "      <td>2022-01-22 12:07:47</td>\n",
       "      <td>2022-01-22 12:19:51</td>\n",
       "      <td>Hoboken Ave at Monmouth St</td>\n",
       "      <td>JC105</td>\n",
       "      <td>Hoboken Terminal - Hudson St &amp; Hudson Pl</td>\n",
       "      <td>HB101</td>\n",
       "      <td>40.735208</td>\n",
       "      <td>-74.046964</td>\n",
       "      <td>40.735938</td>\n",
       "      <td>-74.030305</td>\n",
       "      <td>member</td>\n",
       "    </tr>\n",
       "    <tr>\n",
       "      <th>2</th>\n",
       "      <td>02DF344FB91BD358</td>\n",
       "      <td>classic_bike</td>\n",
       "      <td>2022-01-22 11:15:57</td>\n",
       "      <td>2022-01-22 11:17:33</td>\n",
       "      <td>Sip Ave</td>\n",
       "      <td>JC056</td>\n",
       "      <td>Sip Ave</td>\n",
       "      <td>JC056</td>\n",
       "      <td>40.730897</td>\n",
       "      <td>-74.063913</td>\n",
       "      <td>40.730897</td>\n",
       "      <td>-74.063913</td>\n",
       "      <td>member</td>\n",
       "    </tr>\n",
       "    <tr>\n",
       "      <th>3</th>\n",
       "      <td>B5B108F096140ABF</td>\n",
       "      <td>classic_bike</td>\n",
       "      <td>2022-01-12 16:17:30</td>\n",
       "      <td>2022-01-12 16:21:13</td>\n",
       "      <td>Brunswick St</td>\n",
       "      <td>JC023</td>\n",
       "      <td>Grove St PATH</td>\n",
       "      <td>JC005</td>\n",
       "      <td>40.724176</td>\n",
       "      <td>-74.050656</td>\n",
       "      <td>40.719586</td>\n",
       "      <td>-74.043117</td>\n",
       "      <td>member</td>\n",
       "    </tr>\n",
       "    <tr>\n",
       "      <th>4</th>\n",
       "      <td>34CDD60229964DCA</td>\n",
       "      <td>classic_bike</td>\n",
       "      <td>2022-01-25 12:34:07</td>\n",
       "      <td>2022-01-25 12:35:29</td>\n",
       "      <td>Warren St</td>\n",
       "      <td>JC006</td>\n",
       "      <td>Columbus Drive</td>\n",
       "      <td>JC014</td>\n",
       "      <td>40.721124</td>\n",
       "      <td>-74.038051</td>\n",
       "      <td>40.718355</td>\n",
       "      <td>-74.038914</td>\n",
       "      <td>member</td>\n",
       "    </tr>\n",
       "  </tbody>\n",
       "</table>\n",
       "</div>"
      ],
      "text/plain": [
       "            ride_id  rideable_type           started_at             ended_at  \\\n",
       "0  363FDF271323F3C0  electric_bike  2022-01-19 08:13:48  2022-01-19 08:17:16   \n",
       "1  C20A36BA75BE5B4C   classic_bike  2022-01-22 12:07:47  2022-01-22 12:19:51   \n",
       "2  02DF344FB91BD358   classic_bike  2022-01-22 11:15:57  2022-01-22 11:17:33   \n",
       "3  B5B108F096140ABF   classic_bike  2022-01-12 16:17:30  2022-01-12 16:21:13   \n",
       "4  34CDD60229964DCA   classic_bike  2022-01-25 12:34:07  2022-01-25 12:35:29   \n",
       "\n",
       "           start_station_name start_station_id  \\\n",
       "0             Brunswick & 6th            JC081   \n",
       "1  Hoboken Ave at Monmouth St            JC105   \n",
       "2                     Sip Ave            JC056   \n",
       "3                Brunswick St            JC023   \n",
       "4                   Warren St            JC006   \n",
       "\n",
       "                           end_station_name end_station_id  start_lat  \\\n",
       "0                              Manila & 1st          JC082  40.726012   \n",
       "1  Hoboken Terminal - Hudson St & Hudson Pl          HB101  40.735208   \n",
       "2                                   Sip Ave          JC056  40.730897   \n",
       "3                             Grove St PATH          JC005  40.724176   \n",
       "4                            Columbus Drive          JC014  40.721124   \n",
       "\n",
       "   start_lng    end_lat    end_lng member_casual  \n",
       "0 -74.050389  40.721651 -74.042884        casual  \n",
       "1 -74.046964  40.735938 -74.030305        member  \n",
       "2 -74.063913  40.730897 -74.063913        member  \n",
       "3 -74.050656  40.719586 -74.043117        member  \n",
       "4 -74.038051  40.718355 -74.038914        member  "
      ]
     },
     "execution_count": 10,
     "metadata": {},
     "output_type": "execute_result"
    }
   ],
   "source": [
    "main_df.head()"
   ]
  },
  {
   "cell_type": "code",
   "execution_count": 11,
   "id": "4a2a303f",
   "metadata": {},
   "outputs": [
    {
     "name": "stdout",
     "output_type": "stream",
     "text": [
      "<class 'pandas.core.frame.DataFrame'>\n",
      "RangeIndex: 13432 entries, 0 to 13431\n",
      "Data columns (total 13 columns):\n",
      " #   Column              Non-Null Count  Dtype  \n",
      "---  ------              --------------  -----  \n",
      " 0   ride_id             13432 non-null  object \n",
      " 1   rideable_type       13432 non-null  object \n",
      " 2   started_at          13432 non-null  object \n",
      " 3   ended_at            13432 non-null  object \n",
      " 4   start_station_name  13431 non-null  object \n",
      " 5   start_station_id    13431 non-null  object \n",
      " 6   end_station_name    13389 non-null  object \n",
      " 7   end_station_id      13389 non-null  object \n",
      " 8   start_lat           13432 non-null  float64\n",
      " 9   start_lng           13432 non-null  float64\n",
      " 10  end_lat             13403 non-null  float64\n",
      " 11  end_lng             13403 non-null  float64\n",
      " 12  member_casual       13432 non-null  object \n",
      "dtypes: float64(4), object(9)\n",
      "memory usage: 1.3+ MB\n"
     ]
    }
   ],
   "source": [
    "\n",
    "main_df.info()"
   ]
  },
  {
   "cell_type": "code",
   "execution_count": null,
   "id": "fdddee5b",
   "metadata": {},
   "outputs": [],
   "source": []
  }
 ],
 "metadata": {
  "kernelspec": {
   "display_name": "Python 3 (ipykernel)",
   "language": "python",
   "name": "python3"
  },
  "language_info": {
   "codemirror_mode": {
    "name": "ipython",
    "version": 3
   },
   "file_extension": ".py",
   "mimetype": "text/x-python",
   "name": "python",
   "nbconvert_exporter": "python",
   "pygments_lexer": "ipython3",
   "version": "3.9.12"
  }
 },
 "nbformat": 4,
 "nbformat_minor": 5
}
