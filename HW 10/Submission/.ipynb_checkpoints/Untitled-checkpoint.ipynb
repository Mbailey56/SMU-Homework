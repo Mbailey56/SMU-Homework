{
 "cells": [
  {
   "cell_type": "code",
   "execution_count": null,
   "metadata": {},
   "outputs": [],
   "source": []
  }
 ],
 "metadata": {
  "kernelspec": {
   "display_name": "base",
   "language": "python",
   "name": "python3"
  },
  "language_info": {
   "name": "python",
   "version": "3.9.12 (main, Apr  4 2022, 05:22:27) [MSC v.1916 64 bit (AMD64)]"
  },
  "vscode": {
   "interpreter": {
    "hash": "c0c3f75b8de889c4cf1fa1fb851cf273fd76f0fedef33f664d2283ea2d5b1239"
   }
  }
 },
 "nbformat": 4,
 "nbformat_minor": 5
}
